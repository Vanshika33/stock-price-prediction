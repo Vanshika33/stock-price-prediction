{
 "cells": [
  {
   "cell_type": "code",
   "execution_count": 1,
   "id": "6f050a3b",
   "metadata": {},
   "outputs": [],
   "source": [
    "import pandas as pd\n",
    "import numpy as np\n",
    "from sklearn import metrics\n",
    "%matplotlib inline\n",
    "import matplotlib.pyplot as plt"
   ]
  },
  {
   "cell_type": "code",
   "execution_count": 244,
   "id": "407fc8e1",
   "metadata": {},
   "outputs": [
    {
     "data": {
      "text/html": [
       "<div>\n",
       "<style scoped>\n",
       "    .dataframe tbody tr th:only-of-type {\n",
       "        vertical-align: middle;\n",
       "    }\n",
       "\n",
       "    .dataframe tbody tr th {\n",
       "        vertical-align: top;\n",
       "    }\n",
       "\n",
       "    .dataframe thead th {\n",
       "        text-align: right;\n",
       "    }\n",
       "</style>\n",
       "<table border=\"1\" class=\"dataframe\">\n",
       "  <thead>\n",
       "    <tr style=\"text-align: right;\">\n",
       "      <th></th>\n",
       "      <th>Date</th>\n",
       "      <th>Open</th>\n",
       "      <th>High</th>\n",
       "      <th>Low</th>\n",
       "      <th>Close</th>\n",
       "      <th>Adj Close</th>\n",
       "      <th>Volume</th>\n",
       "    </tr>\n",
       "  </thead>\n",
       "  <tbody>\n",
       "    <tr>\n",
       "      <th>0</th>\n",
       "      <td>06-11-2015</td>\n",
       "      <td>54.090000</td>\n",
       "      <td>54.980000</td>\n",
       "      <td>53.959999</td>\n",
       "      <td>54.919998</td>\n",
       "      <td>49.046444</td>\n",
       "      <td>32851200</td>\n",
       "    </tr>\n",
       "    <tr>\n",
       "      <th>1</th>\n",
       "      <td>09-11-2015</td>\n",
       "      <td>54.549999</td>\n",
       "      <td>54.869999</td>\n",
       "      <td>53.560001</td>\n",
       "      <td>54.160000</td>\n",
       "      <td>48.367729</td>\n",
       "      <td>32513100</td>\n",
       "    </tr>\n",
       "    <tr>\n",
       "      <th>2</th>\n",
       "      <td>10-11-2015</td>\n",
       "      <td>54.070000</td>\n",
       "      <td>54.130001</td>\n",
       "      <td>53.270000</td>\n",
       "      <td>53.509998</td>\n",
       "      <td>47.787235</td>\n",
       "      <td>55283700</td>\n",
       "    </tr>\n",
       "    <tr>\n",
       "      <th>3</th>\n",
       "      <td>11-11-2015</td>\n",
       "      <td>53.700001</td>\n",
       "      <td>54.200001</td>\n",
       "      <td>53.459999</td>\n",
       "      <td>53.650002</td>\n",
       "      <td>47.912277</td>\n",
       "      <td>36516300</td>\n",
       "    </tr>\n",
       "    <tr>\n",
       "      <th>4</th>\n",
       "      <td>12-11-2015</td>\n",
       "      <td>53.480000</td>\n",
       "      <td>53.980000</td>\n",
       "      <td>53.189999</td>\n",
       "      <td>53.320000</td>\n",
       "      <td>47.617561</td>\n",
       "      <td>35361100</td>\n",
       "    </tr>\n",
       "  </tbody>\n",
       "</table>\n",
       "</div>"
      ],
      "text/plain": [
       "         Date       Open       High        Low      Close  Adj Close    Volume\n",
       "0  06-11-2015  54.090000  54.980000  53.959999  54.919998  49.046444  32851200\n",
       "1  09-11-2015  54.549999  54.869999  53.560001  54.160000  48.367729  32513100\n",
       "2  10-11-2015  54.070000  54.130001  53.270000  53.509998  47.787235  55283700\n",
       "3  11-11-2015  53.700001  54.200001  53.459999  53.650002  47.912277  36516300\n",
       "4  12-11-2015  53.480000  53.980000  53.189999  53.320000  47.617561  35361100"
      ]
     },
     "execution_count": 244,
     "metadata": {},
     "output_type": "execute_result"
    }
   ],
   "source": [
    "stock_data = pd.read_csv('./MSFT3.csv')\n",
    "stock_data.head()\n"
   ]
  },
  {
   "cell_type": "code",
   "execution_count": 245,
   "id": "d4d2e787",
   "metadata": {},
   "outputs": [
    {
     "data": {
      "text/plain": [
       "(1762, 7)"
      ]
     },
     "execution_count": 245,
     "metadata": {},
     "output_type": "execute_result"
    }
   ],
   "source": [
    "stock_data.shape\n"
   ]
  },
  {
   "cell_type": "code",
   "execution_count": 246,
   "id": "e6217fb6",
   "metadata": {},
   "outputs": [
    {
     "data": {
      "text/plain": [
       "Date         0\n",
       "Open         0\n",
       "High         0\n",
       "Low          0\n",
       "Close        0\n",
       "Adj Close    0\n",
       "Volume       0\n",
       "dtype: int64"
      ]
     },
     "execution_count": 246,
     "metadata": {},
     "output_type": "execute_result"
    }
   ],
   "source": [
    "stock_data.isnull().sum()\n"
   ]
  },
  {
   "cell_type": "code",
   "execution_count": 247,
   "id": "edd38bf9",
   "metadata": {},
   "outputs": [
    {
     "data": {
      "text/plain": [
       "Date         False\n",
       "Open         False\n",
       "High         False\n",
       "Low          False\n",
       "Close        False\n",
       "Adj Close    False\n",
       "Volume       False\n",
       "dtype: bool"
      ]
     },
     "execution_count": 247,
     "metadata": {},
     "output_type": "execute_result"
    }
   ],
   "source": [
    "stock_data.isna().any()\n"
   ]
  },
  {
   "cell_type": "code",
   "execution_count": 248,
   "id": "86d1a0d1",
   "metadata": {},
   "outputs": [
    {
     "name": "stdout",
     "output_type": "stream",
     "text": [
      "<class 'pandas.core.frame.DataFrame'>\n",
      "RangeIndex: 1762 entries, 0 to 1761\n",
      "Data columns (total 7 columns):\n",
      " #   Column     Non-Null Count  Dtype  \n",
      "---  ------     --------------  -----  \n",
      " 0   Date       1762 non-null   object \n",
      " 1   Open       1762 non-null   float64\n",
      " 2   High       1762 non-null   float64\n",
      " 3   Low        1762 non-null   float64\n",
      " 4   Close      1762 non-null   float64\n",
      " 5   Adj Close  1762 non-null   float64\n",
      " 6   Volume     1762 non-null   int64  \n",
      "dtypes: float64(5), int64(1), object(1)\n",
      "memory usage: 96.5+ KB\n"
     ]
    }
   ],
   "source": [
    "stock_data.info()"
   ]
  },
  {
   "cell_type": "code",
   "execution_count": 249,
   "id": "3685a84c",
   "metadata": {},
   "outputs": [
    {
     "data": {
      "text/html": [
       "<div>\n",
       "<style scoped>\n",
       "    .dataframe tbody tr th:only-of-type {\n",
       "        vertical-align: middle;\n",
       "    }\n",
       "\n",
       "    .dataframe tbody tr th {\n",
       "        vertical-align: top;\n",
       "    }\n",
       "\n",
       "    .dataframe thead th {\n",
       "        text-align: right;\n",
       "    }\n",
       "</style>\n",
       "<table border=\"1\" class=\"dataframe\">\n",
       "  <thead>\n",
       "    <tr style=\"text-align: right;\">\n",
       "      <th></th>\n",
       "      <th>Open</th>\n",
       "      <th>High</th>\n",
       "      <th>Low</th>\n",
       "      <th>Close</th>\n",
       "      <th>Adj Close</th>\n",
       "      <th>Volume</th>\n",
       "    </tr>\n",
       "  </thead>\n",
       "  <tbody>\n",
       "    <tr>\n",
       "      <th>count</th>\n",
       "      <td>1762.000000</td>\n",
       "      <td>1762.000000</td>\n",
       "      <td>1762.000000</td>\n",
       "      <td>1762.000000</td>\n",
       "      <td>1762.000000</td>\n",
       "      <td>1.762000e+03</td>\n",
       "    </tr>\n",
       "    <tr>\n",
       "      <th>mean</th>\n",
       "      <td>152.593734</td>\n",
       "      <td>154.116600</td>\n",
       "      <td>150.967860</td>\n",
       "      <td>152.612310</td>\n",
       "      <td>148.830922</td>\n",
       "      <td>2.936978e+07</td>\n",
       "    </tr>\n",
       "    <tr>\n",
       "      <th>std</th>\n",
       "      <td>86.683666</td>\n",
       "      <td>87.641150</td>\n",
       "      <td>85.640722</td>\n",
       "      <td>86.676298</td>\n",
       "      <td>87.805875</td>\n",
       "      <td>1.311647e+07</td>\n",
       "    </tr>\n",
       "    <tr>\n",
       "      <th>min</th>\n",
       "      <td>48.680000</td>\n",
       "      <td>49.150002</td>\n",
       "      <td>48.040001</td>\n",
       "      <td>48.430000</td>\n",
       "      <td>44.161423</td>\n",
       "      <td>7.425600e+06</td>\n",
       "    </tr>\n",
       "    <tr>\n",
       "      <th>25%</th>\n",
       "      <td>72.972500</td>\n",
       "      <td>73.359998</td>\n",
       "      <td>72.482502</td>\n",
       "      <td>72.882502</td>\n",
       "      <td>68.391661</td>\n",
       "      <td>2.106820e+07</td>\n",
       "    </tr>\n",
       "    <tr>\n",
       "      <th>50%</th>\n",
       "      <td>125.615002</td>\n",
       "      <td>126.540001</td>\n",
       "      <td>124.629998</td>\n",
       "      <td>125.924999</td>\n",
       "      <td>121.811302</td>\n",
       "      <td>2.610305e+07</td>\n",
       "    </tr>\n",
       "    <tr>\n",
       "      <th>75%</th>\n",
       "      <td>229.887497</td>\n",
       "      <td>233.527500</td>\n",
       "      <td>226.692498</td>\n",
       "      <td>228.970005</td>\n",
       "      <td>227.293824</td>\n",
       "      <td>3.361610e+07</td>\n",
       "    </tr>\n",
       "    <tr>\n",
       "      <th>max</th>\n",
       "      <td>344.619995</td>\n",
       "      <td>349.670013</td>\n",
       "      <td>342.200012</td>\n",
       "      <td>343.109985</td>\n",
       "      <td>340.882813</td>\n",
       "      <td>1.335030e+08</td>\n",
       "    </tr>\n",
       "  </tbody>\n",
       "</table>\n",
       "</div>"
      ],
      "text/plain": [
       "              Open         High          Low        Close    Adj Close  \\\n",
       "count  1762.000000  1762.000000  1762.000000  1762.000000  1762.000000   \n",
       "mean    152.593734   154.116600   150.967860   152.612310   148.830922   \n",
       "std      86.683666    87.641150    85.640722    86.676298    87.805875   \n",
       "min      48.680000    49.150002    48.040001    48.430000    44.161423   \n",
       "25%      72.972500    73.359998    72.482502    72.882502    68.391661   \n",
       "50%     125.615002   126.540001   124.629998   125.924999   121.811302   \n",
       "75%     229.887497   233.527500   226.692498   228.970005   227.293824   \n",
       "max     344.619995   349.670013   342.200012   343.109985   340.882813   \n",
       "\n",
       "             Volume  \n",
       "count  1.762000e+03  \n",
       "mean   2.936978e+07  \n",
       "std    1.311647e+07  \n",
       "min    7.425600e+06  \n",
       "25%    2.106820e+07  \n",
       "50%    2.610305e+07  \n",
       "75%    3.361610e+07  \n",
       "max    1.335030e+08  "
      ]
     },
     "execution_count": 249,
     "metadata": {},
     "output_type": "execute_result"
    }
   ],
   "source": [
    "stock_data.describe()"
   ]
  },
  {
   "cell_type": "code",
   "execution_count": 250,
   "id": "e9284981",
   "metadata": {},
   "outputs": [
    {
     "name": "stdout",
     "output_type": "stream",
     "text": [
      "1762\n"
     ]
    }
   ],
   "source": [
    "print(len(stock_data))"
   ]
  },
  {
   "cell_type": "code",
   "execution_count": 251,
   "id": "abf61196",
   "metadata": {},
   "outputs": [
    {
     "data": {
      "text/plain": [
       "<AxesSubplot:>"
      ]
     },
     "execution_count": 251,
     "metadata": {},
     "output_type": "execute_result"
    },
    {
     "data": {
      "image/png": "[encoded data removed]",
      "text/plain": [
       "<Figure size 1600x600 with 1 Axes>"
      ]
     },
     "metadata": {},
     "output_type": "display_data"
    }
   ],
   "source": [
    "stock_data['Open'].plot(figsize=(16,6))"
   ]
  },
  {
   "cell_type": "code",
   "execution_count": 252,
   "id": "185b6ec0",
   "metadata": {},
   "outputs": [],
   "source": [
    "X = stock_data[['Open', 'High','Low','Volume']]\n",
    "Y= stock_data['Close']"
   ]
  },
  {
   "cell_type": "code",
   "execution_count": 253,
   "id": "0b796ae6",
   "metadata": {},
   "outputs": [],
   "source": [
    "from sklearn.model_selection import train_test_split\n",
    "X_train, X_test, Y_train, Y_test = train_test_split(X, Y, random_state = 0)"
   ]
  },
  {
   "cell_type": "code",
   "execution_count": 254,
   "id": "b4511dcb",
   "metadata": {
    "scrolled": true
   },
   "outputs": [
    {
     "data": {
      "text/plain": [
       "(1321, 4)"
      ]
     },
     "execution_count": 254,
     "metadata": {},
     "output_type": "execute_result"
    }
   ],
   "source": [
    "X_train.shape"
   ]
  },
  {
   "cell_type": "code",
   "execution_count": 255,
   "id": "e764b28d",
   "metadata": {},
   "outputs": [
    {
     "data": {
      "text/plain": [
       "(441, 4)"
      ]
     },
     "execution_count": 255,
     "metadata": {},
     "output_type": "execute_result"
    }
   ],
   "source": [
    "X_test.shape"
   ]
  },
  {
   "cell_type": "code",
   "execution_count": 256,
   "id": "a13d57e0",
   "metadata": {},
   "outputs": [],
   "source": [
    "from sklearn.linear_model import LinearRegression\n",
    "from sklearn.metrics import confusion_matrix, accuracy_score\n",
    "regressor = LinearRegression()"
   ]
  },
  {
   "cell_type": "code",
   "execution_count": 257,
   "id": "698697ee",
   "metadata": {},
   "outputs": [
    {
     "data": {
      "text/plain": [
       "LinearRegression()"
      ]
     },
     "execution_count": 257,
     "metadata": {},
     "output_type": "execute_result"
    }
   ],
   "source": [
    "regressor.fit(X_train,Y_train)\n"
   ]
  },
  {
   "cell_type": "code",
   "execution_count": 258,
   "id": "1ce6fcec",
   "metadata": {},
   "outputs": [
    {
     "name": "stdout",
     "output_type": "stream",
     "text": [
      "[-6.65881521e-01  7.98146096e-01  8.68951386e-01 -3.09239583e-09]\n"
     ]
    }
   ],
   "source": [
    "print(regressor.coef_)"
   ]
  },
  {
   "cell_type": "code",
   "execution_count": 259,
   "id": "1588c83f",
   "metadata": {},
   "outputs": [
    {
     "name": "stdout",
     "output_type": "stream",
     "text": [
      "0.10699843665636877\n"
     ]
    }
   ],
   "source": [
    "print(regressor.intercept_)"
   ]
  },
  {
   "cell_type": "code",
   "execution_count": 260,
   "id": "4f3ab917",
   "metadata": {},
   "outputs": [],
   "source": [
    "predicted=regressor.predict(X_test)"
   ]
  },
  {
   "cell_type": "code",
   "execution_count": 261,
   "id": "dc13146f",
   "metadata": {},
   "outputs": [
    {
     "name": "stdout",
     "output_type": "stream",
     "text": [
      "            Open        High         Low    Volume\n",
      "1165  197.800003  200.610001  195.470001  27803900\n",
      "668    99.500000   99.919998   99.029999  18977400\n",
      "412    69.209999   69.839996   68.790001  25806200\n",
      "558    93.120003   94.059998   92.580002  29172200\n",
      "1344  234.009995  235.820007  233.229996  22653700\n",
      "...          ...         ...         ...       ...\n",
      "921   136.000000  136.970001  135.800003  19953100\n",
      "96     53.660000   54.860001   53.450001  23924300\n",
      "769   106.269997  107.330002  105.360001  29124500\n",
      "178    56.470001   56.740002   56.259998  25610600\n",
      "108    55.220001   55.580002   55.070000  20877100\n",
      "\n",
      "[441 rows x 4 columns]\n"
     ]
    }
   ],
   "source": [
    "print(X_test)"
   ]
  },
  {
   "cell_type": "code",
   "execution_count": 262,
   "id": "e8e05f86",
   "metadata": {},
   "outputs": [
    {
     "data": {
      "text/plain": [
       "(441,)"
      ]
     },
     "execution_count": 262,
     "metadata": {},
     "output_type": "execute_result"
    }
   ],
   "source": [
    "predicted.shape"
   ]
  },
  {
   "cell_type": "code",
   "execution_count": 263,
   "id": "b2253d32",
   "metadata": {},
   "outputs": [],
   "source": [
    "dframe=pd.DataFrame(Y_test,predicted)"
   ]
  },
  {
   "cell_type": "code",
   "execution_count": 264,
   "id": "93e9855a",
   "metadata": {},
   "outputs": [],
   "source": [
    "dfr=pd.DataFrame({'Actual Price': Y_test,'Predicted Price':predicted})"
   ]
  },
  {
   "cell_type": "code",
   "execution_count": 265,
   "id": "271854c1",
   "metadata": {},
   "outputs": [
    {
     "name": "stdout",
     "output_type": "stream",
     "text": [
      "      Actual Price  Predicted Price\n",
      "1165    200.339996       198.279668\n",
      "668      99.760002        99.596113\n",
      "412      69.800003        69.459223\n",
      "558      94.059998        93.531038\n",
      "1344    235.750000       235.098359\n",
      "...            ...              ...\n",
      "921     136.460007       136.811081\n",
      "96       54.709999        54.533561\n",
      "769     107.139999       106.471448\n",
      "178      56.730000        56.599485\n",
      "108      55.360001        55.486574\n",
      "\n",
      "[441 rows x 2 columns]\n"
     ]
    }
   ],
   "source": [
    "print(dfr)"
   ]
  },
  {
   "cell_type": "code",
   "execution_count": 266,
   "id": "9ce8b8c9",
   "metadata": {},
   "outputs": [
    {
     "data": {
      "text/html": [
       "<div>\n",
       "<style scoped>\n",
       "    .dataframe tbody tr th:only-of-type {\n",
       "        vertical-align: middle;\n",
       "    }\n",
       "\n",
       "    .dataframe tbody tr th {\n",
       "        vertical-align: top;\n",
       "    }\n",
       "\n",
       "    .dataframe thead th {\n",
       "        text-align: right;\n",
       "    }\n",
       "</style>\n",
       "<table border=\"1\" class=\"dataframe\">\n",
       "  <thead>\n",
       "    <tr style=\"text-align: right;\">\n",
       "      <th></th>\n",
       "      <th>Actual Price</th>\n",
       "      <th>Predicted Price</th>\n",
       "    </tr>\n",
       "  </thead>\n",
       "  <tbody>\n",
       "    <tr>\n",
       "      <th>1165</th>\n",
       "      <td>200.339996</td>\n",
       "      <td>198.279668</td>\n",
       "    </tr>\n",
       "    <tr>\n",
       "      <th>668</th>\n",
       "      <td>99.760002</td>\n",
       "      <td>99.596113</td>\n",
       "    </tr>\n",
       "    <tr>\n",
       "      <th>412</th>\n",
       "      <td>69.800003</td>\n",
       "      <td>69.459223</td>\n",
       "    </tr>\n",
       "    <tr>\n",
       "      <th>558</th>\n",
       "      <td>94.059998</td>\n",
       "      <td>93.531038</td>\n",
       "    </tr>\n",
       "    <tr>\n",
       "      <th>1344</th>\n",
       "      <td>235.750000</td>\n",
       "      <td>235.098359</td>\n",
       "    </tr>\n",
       "    <tr>\n",
       "      <th>1323</th>\n",
       "      <td>242.820007</td>\n",
       "      <td>242.499201</td>\n",
       "    </tr>\n",
       "    <tr>\n",
       "      <th>1081</th>\n",
       "      <td>170.169998</td>\n",
       "      <td>171.379537</td>\n",
       "    </tr>\n",
       "    <tr>\n",
       "      <th>999</th>\n",
       "      <td>144.190002</td>\n",
       "      <td>144.813760</td>\n",
       "    </tr>\n",
       "    <tr>\n",
       "      <th>1686</th>\n",
       "      <td>264.839996</td>\n",
       "      <td>261.815853</td>\n",
       "    </tr>\n",
       "    <tr>\n",
       "      <th>1761</th>\n",
       "      <td>221.389999</td>\n",
       "      <td>217.452249</td>\n",
       "    </tr>\n",
       "    <tr>\n",
       "      <th>141</th>\n",
       "      <td>52.849998</td>\n",
       "      <td>52.939504</td>\n",
       "    </tr>\n",
       "    <tr>\n",
       "      <th>251</th>\n",
       "      <td>58.709999</td>\n",
       "      <td>59.129438</td>\n",
       "    </tr>\n",
       "    <tr>\n",
       "      <th>1693</th>\n",
       "      <td>278.010010</td>\n",
       "      <td>279.239261</td>\n",
       "    </tr>\n",
       "    <tr>\n",
       "      <th>152</th>\n",
       "      <td>50.389999</td>\n",
       "      <td>50.340314</td>\n",
       "    </tr>\n",
       "    <tr>\n",
       "      <th>240</th>\n",
       "      <td>57.250000</td>\n",
       "      <td>56.810024</td>\n",
       "    </tr>\n",
       "    <tr>\n",
       "      <th>467</th>\n",
       "      <td>75.309998</td>\n",
       "      <td>74.695246</td>\n",
       "    </tr>\n",
       "    <tr>\n",
       "      <th>1670</th>\n",
       "      <td>256.480011</td>\n",
       "      <td>260.005982</td>\n",
       "    </tr>\n",
       "    <tr>\n",
       "      <th>1585</th>\n",
       "      <td>294.589996</td>\n",
       "      <td>289.989860</td>\n",
       "    </tr>\n",
       "    <tr>\n",
       "      <th>161</th>\n",
       "      <td>50.540001</td>\n",
       "      <td>50.531796</td>\n",
       "    </tr>\n",
       "    <tr>\n",
       "      <th>124</th>\n",
       "      <td>50.389999</td>\n",
       "      <td>50.160249</td>\n",
       "    </tr>\n",
       "    <tr>\n",
       "      <th>1137</th>\n",
       "      <td>183.160004</td>\n",
       "      <td>183.835719</td>\n",
       "    </tr>\n",
       "    <tr>\n",
       "      <th>666</th>\n",
       "      <td>100.010002</td>\n",
       "      <td>99.743254</td>\n",
       "    </tr>\n",
       "    <tr>\n",
       "      <th>6</th>\n",
       "      <td>53.770000</td>\n",
       "      <td>53.598710</td>\n",
       "    </tr>\n",
       "    <tr>\n",
       "      <th>1259</th>\n",
       "      <td>223.720001</td>\n",
       "      <td>220.559677</td>\n",
       "    </tr>\n",
       "    <tr>\n",
       "      <th>1723</th>\n",
       "      <td>251.990005</td>\n",
       "      <td>254.103801</td>\n",
       "    </tr>\n",
       "  </tbody>\n",
       "</table>\n",
       "</div>"
      ],
      "text/plain": [
       "      Actual Price  Predicted Price\n",
       "1165    200.339996       198.279668\n",
       "668      99.760002        99.596113\n",
       "412      69.800003        69.459223\n",
       "558      94.059998        93.531038\n",
       "1344    235.750000       235.098359\n",
       "1323    242.820007       242.499201\n",
       "1081    170.169998       171.379537\n",
       "999     144.190002       144.813760\n",
       "1686    264.839996       261.815853\n",
       "1761    221.389999       217.452249\n",
       "141      52.849998        52.939504\n",
       "251      58.709999        59.129438\n",
       "1693    278.010010       279.239261\n",
       "152      50.389999        50.340314\n",
       "240      57.250000        56.810024\n",
       "467      75.309998        74.695246\n",
       "1670    256.480011       260.005982\n",
       "1585    294.589996       289.989860\n",
       "161      50.540001        50.531796\n",
       "124      50.389999        50.160249\n",
       "1137    183.160004       183.835719\n",
       "666     100.010002        99.743254\n",
       "6        53.770000        53.598710\n",
       "1259    223.720001       220.559677\n",
       "1723    251.990005       254.103801"
      ]
     },
     "execution_count": 266,
     "metadata": {},
     "output_type": "execute_result"
    }
   ],
   "source": [
    "dfr.head(25)"
   ]
  },
  {
   "cell_type": "code",
   "execution_count": 267,
   "id": "4aa5ee0d",
   "metadata": {},
   "outputs": [],
   "source": [
    "from sklearn.metrics import confusion_matrix, accuracy_score"
   ]
  },
  {
   "cell_type": "code",
   "execution_count": 268,
   "id": "e9738b9b",
   "metadata": {},
   "outputs": [
    {
     "data": {
      "text/plain": [
       "0.9997689215353729"
      ]
     },
     "execution_count": 268,
     "metadata": {},
     "output_type": "execute_result"
    }
   ],
   "source": [
    "regressor.score(X_test, Y_test)"
   ]
  },
  {
   "cell_type": "code",
   "execution_count": 269,
   "id": "a1dd017e",
   "metadata": {},
   "outputs": [],
   "source": [
    "import math"
   ]
  },
  {
   "cell_type": "code",
   "execution_count": 270,
   "id": "e370a2b3",
   "metadata": {},
   "outputs": [
    {
     "name": "stdout",
     "output_type": "stream",
     "text": [
      "Mean Absolute Error: 0.728196891969281\n"
     ]
    }
   ],
   "source": [
    "print('Mean Absolute Error:',metrics.mean_absolute_error(Y_test,predicted))"
   ]
  },
  {
   "cell_type": "code",
   "execution_count": 271,
   "id": "b02142d6",
   "metadata": {},
   "outputs": [
    {
     "name": "stdout",
     "output_type": "stream",
     "text": [
      "Mean Squared Error: 1.6781503244853246\n"
     ]
    }
   ],
   "source": [
    "print('Mean Squared Error:',metrics.mean_squared_error(Y_test,predicted))"
   ]
  },
  {
   "cell_type": "code",
   "execution_count": 272,
   "id": "94caa183",
   "metadata": {},
   "outputs": [
    {
     "name": "stdout",
     "output_type": "stream",
     "text": [
      "Root Mean squared Error: 0.8533445329814219\n"
     ]
    }
   ],
   "source": [
    "print('Root Mean squared Error:',math.sqrt(metrics.mean_absolute_error(Y_test,predicted)))"
   ]
  },
  {
   "cell_type": "code",
   "execution_count": 273,
   "id": "0871a900",
   "metadata": {},
   "outputs": [],
   "source": [
    "graph=dfr.head(20)"
   ]
  },
  {
   "cell_type": "code",
   "execution_count": 274,
   "id": "629d0d17",
   "metadata": {},
   "outputs": [
    {
     "data": {
      "text/plain": [
       "<AxesSubplot:>"
      ]
     },
     "execution_count": 274,
     "metadata": {},
     "output_type": "execute_result"
    },
    {
     "data": {
      "image/png": "[encoded data removed]",
      "text/plain": [
       "<Figure size 640x480 with 1 Axes>"
      ]
     },
     "metadata": {},
     "output_type": "display_data"
    }
   ],
   "source": [
    "graph.plot(kind='bar')"
   ]
  },
  {
   "cell_type": "code",
   "execution_count": 275,
   "id": "9dab0053",
   "metadata": {},
   "outputs": [
    {
     "data": {
      "image/png": "[encoded data removed]",
      "text/plain": [
       "<Figure size 640x480 with 1 Axes>"
      ]
     },
     "metadata": {},
     "output_type": "display_data"
    }
   ],
   "source": [
    "plt.scatter(Y_test, predicted)\n",
    "plt.xlabel(\"Prices\")\n",
    "plt.ylabel(\"Predicted Prices\")\n",
    "plt.title(\"Prices vs Predicted Prices\")\n",
    "plt.show()\n"
   ]
  },
  {
   "cell_type": "code",
   "execution_count": 276,
   "id": "2ac32c3a",
   "metadata": {},
   "outputs": [],
   "source": [
    "#DecisionTreeRegressor"
   ]
  },
  {
   "cell_type": "code",
   "execution_count": 277,
   "id": "14094050",
   "metadata": {},
   "outputs": [],
   "source": [
    "X = stock_data[['Open', 'High','Low','Volume']]\n",
    "Y= stock_data['Close']"
   ]
  },
  {
   "cell_type": "code",
   "execution_count": 278,
   "id": "630ee657",
   "metadata": {},
   "outputs": [],
   "source": [
    "from sklearn.model_selection import train_test_split\n",
    "X_train, X_test, Y_train, Y_test = train_test_split(X, Y, random_state = 0)"
   ]
  },
  {
   "cell_type": "code",
   "execution_count": 279,
   "id": "ea33ea6a",
   "metadata": {},
   "outputs": [
    {
     "data": {
      "text/plain": [
       "(1321, 4)"
      ]
     },
     "execution_count": 279,
     "metadata": {},
     "output_type": "execute_result"
    }
   ],
   "source": [
    "X_train.shape"
   ]
  },
  {
   "cell_type": "code",
   "execution_count": 280,
   "id": "c91c23a6",
   "metadata": {},
   "outputs": [
    {
     "data": {
      "text/plain": [
       "(441, 4)"
      ]
     },
     "execution_count": 280,
     "metadata": {},
     "output_type": "execute_result"
    }
   ],
   "source": [
    "X_test.shape"
   ]
  },
  {
   "cell_type": "code",
   "execution_count": 281,
   "id": "8cc2eac6",
   "metadata": {},
   "outputs": [],
   "source": [
    "from sklearn.tree import DecisionTreeRegressor\n",
    "from sklearn.metrics import confusion_matrix, accuracy_score\n",
    "tree =DecisionTreeRegressor().fit(X_train,Y_train)"
   ]
  },
  {
   "cell_type": "code",
   "execution_count": 282,
   "id": "00b7ed54",
   "metadata": {},
   "outputs": [
    {
     "data": {
      "text/plain": [
       "DecisionTreeRegressor()"
      ]
     },
     "execution_count": 282,
     "metadata": {},
     "output_type": "execute_result"
    }
   ],
   "source": [
    "tree.fit(X_train,Y_train)"
   ]
  },
  {
   "cell_type": "code",
   "execution_count": 283,
   "id": "fccb9116",
   "metadata": {},
   "outputs": [],
   "source": [
    "predicted=tree.predict(X_test)"
   ]
  },
  {
   "cell_type": "code",
   "execution_count": 284,
   "id": "72d4956c",
   "metadata": {},
   "outputs": [
    {
     "name": "stdout",
     "output_type": "stream",
     "text": [
      "            Open        High         Low    Volume\n",
      "1165  197.800003  200.610001  195.470001  27803900\n",
      "668    99.500000   99.919998   99.029999  18977400\n",
      "412    69.209999   69.839996   68.790001  25806200\n",
      "558    93.120003   94.059998   92.580002  29172200\n",
      "1344  234.009995  235.820007  233.229996  22653700\n",
      "...          ...         ...         ...       ...\n",
      "921   136.000000  136.970001  135.800003  19953100\n",
      "96     53.660000   54.860001   53.450001  23924300\n",
      "769   106.269997  107.330002  105.360001  29124500\n",
      "178    56.470001   56.740002   56.259998  25610600\n",
      "108    55.220001   55.580002   55.070000  20877100\n",
      "\n",
      "[441 rows x 4 columns]\n"
     ]
    }
   ],
   "source": [
    "print(X_test)"
   ]
  },
  {
   "cell_type": "code",
   "execution_count": 285,
   "id": "b75092bf",
   "metadata": {},
   "outputs": [
    {
     "data": {
      "text/plain": [
       "(441,)"
      ]
     },
     "execution_count": 285,
     "metadata": {},
     "output_type": "execute_result"
    }
   ],
   "source": [
    "predicted.shape"
   ]
  },
  {
   "cell_type": "code",
   "execution_count": 286,
   "id": "6eb7ddc9",
   "metadata": {},
   "outputs": [],
   "source": [
    "dframe=pd.DataFrame(Y_test,predicted)"
   ]
  },
  {
   "cell_type": "code",
   "execution_count": 287,
   "id": "b08a7a03",
   "metadata": {},
   "outputs": [],
   "source": [
    "dfr=pd.DataFrame({'Actual Price': Y_test,'Predicted Price':predicted})"
   ]
  },
  {
   "cell_type": "code",
   "execution_count": 288,
   "id": "bb2dd0e8",
   "metadata": {},
   "outputs": [
    {
     "name": "stdout",
     "output_type": "stream",
     "text": [
      "      Actual Price  Predicted Price\n",
      "1165    200.339996       200.570007\n",
      "668      99.760002        98.839996\n",
      "412      69.800003        69.459999\n",
      "558      94.059998        93.860001\n",
      "1344    235.750000       234.809998\n",
      "...            ...              ...\n",
      "921     136.460007       137.059998\n",
      "96       54.709999        54.459999\n",
      "769     107.139999       106.709999\n",
      "178      56.730000        56.580002\n",
      "108      55.360001        55.430000\n",
      "\n",
      "[441 rows x 2 columns]\n"
     ]
    }
   ],
   "source": [
    "print(dfr)"
   ]
  },
  {
   "cell_type": "code",
   "execution_count": 289,
   "id": "1c58a3cc",
   "metadata": {},
   "outputs": [
    {
     "data": {
      "text/html": [
       "<div>\n",
       "<style scoped>\n",
       "    .dataframe tbody tr th:only-of-type {\n",
       "        vertical-align: middle;\n",
       "    }\n",
       "\n",
       "    .dataframe tbody tr th {\n",
       "        vertical-align: top;\n",
       "    }\n",
       "\n",
       "    .dataframe thead th {\n",
       "        text-align: right;\n",
       "    }\n",
       "</style>\n",
       "<table border=\"1\" class=\"dataframe\">\n",
       "  <thead>\n",
       "    <tr style=\"text-align: right;\">\n",
       "      <th></th>\n",
       "      <th>Actual Price</th>\n",
       "      <th>Predicted Price</th>\n",
       "    </tr>\n",
       "  </thead>\n",
       "  <tbody>\n",
       "    <tr>\n",
       "      <th>1165</th>\n",
       "      <td>200.339996</td>\n",
       "      <td>200.570007</td>\n",
       "    </tr>\n",
       "    <tr>\n",
       "      <th>668</th>\n",
       "      <td>99.760002</td>\n",
       "      <td>98.839996</td>\n",
       "    </tr>\n",
       "    <tr>\n",
       "      <th>412</th>\n",
       "      <td>69.800003</td>\n",
       "      <td>69.459999</td>\n",
       "    </tr>\n",
       "    <tr>\n",
       "      <th>558</th>\n",
       "      <td>94.059998</td>\n",
       "      <td>93.860001</td>\n",
       "    </tr>\n",
       "    <tr>\n",
       "      <th>1344</th>\n",
       "      <td>235.750000</td>\n",
       "      <td>234.809998</td>\n",
       "    </tr>\n",
       "    <tr>\n",
       "      <th>1323</th>\n",
       "      <td>242.820007</td>\n",
       "      <td>244.490005</td>\n",
       "    </tr>\n",
       "    <tr>\n",
       "      <th>1081</th>\n",
       "      <td>170.169998</td>\n",
       "      <td>171.880005</td>\n",
       "    </tr>\n",
       "    <tr>\n",
       "      <th>999</th>\n",
       "      <td>144.190002</td>\n",
       "      <td>148.339996</td>\n",
       "    </tr>\n",
       "    <tr>\n",
       "      <th>1686</th>\n",
       "      <td>264.839996</td>\n",
       "      <td>262.519989</td>\n",
       "    </tr>\n",
       "    <tr>\n",
       "      <th>1761</th>\n",
       "      <td>221.389999</td>\n",
       "      <td>214.250000</td>\n",
       "    </tr>\n",
       "    <tr>\n",
       "      <th>141</th>\n",
       "      <td>52.849998</td>\n",
       "      <td>52.590000</td>\n",
       "    </tr>\n",
       "    <tr>\n",
       "      <th>251</th>\n",
       "      <td>58.709999</td>\n",
       "      <td>58.869999</td>\n",
       "    </tr>\n",
       "    <tr>\n",
       "      <th>1693</th>\n",
       "      <td>278.010010</td>\n",
       "      <td>277.420013</td>\n",
       "    </tr>\n",
       "    <tr>\n",
       "      <th>152</th>\n",
       "      <td>50.389999</td>\n",
       "      <td>50.610001</td>\n",
       "    </tr>\n",
       "    <tr>\n",
       "      <th>240</th>\n",
       "      <td>57.250000</td>\n",
       "      <td>57.389999</td>\n",
       "    </tr>\n",
       "    <tr>\n",
       "      <th>467</th>\n",
       "      <td>75.309998</td>\n",
       "      <td>74.769997</td>\n",
       "    </tr>\n",
       "    <tr>\n",
       "      <th>1670</th>\n",
       "      <td>256.480011</td>\n",
       "      <td>260.359985</td>\n",
       "    </tr>\n",
       "    <tr>\n",
       "      <th>1585</th>\n",
       "      <td>294.589996</td>\n",
       "      <td>274.730011</td>\n",
       "    </tr>\n",
       "    <tr>\n",
       "      <th>161</th>\n",
       "      <td>50.540001</td>\n",
       "      <td>50.610001</td>\n",
       "    </tr>\n",
       "    <tr>\n",
       "      <th>124</th>\n",
       "      <td>50.389999</td>\n",
       "      <td>49.689999</td>\n",
       "    </tr>\n",
       "    <tr>\n",
       "      <th>1137</th>\n",
       "      <td>183.160004</td>\n",
       "      <td>179.750000</td>\n",
       "    </tr>\n",
       "    <tr>\n",
       "      <th>666</th>\n",
       "      <td>100.010002</td>\n",
       "      <td>99.080002</td>\n",
       "    </tr>\n",
       "    <tr>\n",
       "      <th>6</th>\n",
       "      <td>53.770000</td>\n",
       "      <td>52.970001</td>\n",
       "    </tr>\n",
       "    <tr>\n",
       "      <th>1259</th>\n",
       "      <td>223.720001</td>\n",
       "      <td>222.860001</td>\n",
       "    </tr>\n",
       "    <tr>\n",
       "      <th>1723</th>\n",
       "      <td>251.990005</td>\n",
       "      <td>252.990005</td>\n",
       "    </tr>\n",
       "  </tbody>\n",
       "</table>\n",
       "</div>"
      ],
      "text/plain": [
       "      Actual Price  Predicted Price\n",
       "1165    200.339996       200.570007\n",
       "668      99.760002        98.839996\n",
       "412      69.800003        69.459999\n",
       "558      94.059998        93.860001\n",
       "1344    235.750000       234.809998\n",
       "1323    242.820007       244.490005\n",
       "1081    170.169998       171.880005\n",
       "999     144.190002       148.339996\n",
       "1686    264.839996       262.519989\n",
       "1761    221.389999       214.250000\n",
       "141      52.849998        52.590000\n",
       "251      58.709999        58.869999\n",
       "1693    278.010010       277.420013\n",
       "152      50.389999        50.610001\n",
       "240      57.250000        57.389999\n",
       "467      75.309998        74.769997\n",
       "1670    256.480011       260.359985\n",
       "1585    294.589996       274.730011\n",
       "161      50.540001        50.610001\n",
       "124      50.389999        49.689999\n",
       "1137    183.160004       179.750000\n",
       "666     100.010002        99.080002\n",
       "6        53.770000        52.970001\n",
       "1259    223.720001       222.860001\n",
       "1723    251.990005       252.990005"
      ]
     },
     "execution_count": 289,
     "metadata": {},
     "output_type": "execute_result"
    }
   ],
   "source": [
    "dfr.head(25)"
   ]
  },
  {
   "cell_type": "code",
   "execution_count": 290,
   "id": "d653c279",
   "metadata": {},
   "outputs": [],
   "source": [
    "from sklearn.metrics import confusion_matrix, accuracy_score"
   ]
  },
  {
   "cell_type": "code",
   "execution_count": 291,
   "id": "b72e3c80",
   "metadata": {},
   "outputs": [
    {
     "data": {
      "text/plain": [
       "0.9991798153337366"
      ]
     },
     "execution_count": 291,
     "metadata": {},
     "output_type": "execute_result"
    }
   ],
   "source": [
    "tree.score(X_test, Y_test)"
   ]
  },
  {
   "cell_type": "code",
   "execution_count": 292,
   "id": "91968dd5",
   "metadata": {},
   "outputs": [
    {
     "name": "stdout",
     "output_type": "stream",
     "text": [
      "Mean Absolute Error: 1.3252381179138317\n",
      "Mean Squared Error: 5.95638873596018\n",
      "Root Mean squared Error: 1.1511898704878496\n"
     ]
    }
   ],
   "source": [
    "import math\n",
    "print('Mean Absolute Error:',metrics.mean_absolute_error(Y_test,predicted))\n",
    "print('Mean Squared Error:',metrics.mean_squared_error(Y_test,predicted))\n",
    "print('Root Mean squared Error:',math.sqrt(metrics.mean_absolute_error(Y_test,predicted)))"
   ]
  },
  {
   "cell_type": "code",
   "execution_count": 293,
   "id": "e3c6f03e",
   "metadata": {},
   "outputs": [],
   "source": [
    "graph=dfr.head(20)"
   ]
  },
  {
   "cell_type": "code",
   "execution_count": 294,
   "id": "77a0328b",
   "metadata": {},
   "outputs": [
    {
     "data": {
      "text/plain": [
       "<AxesSubplot:>"
      ]
     },
     "execution_count": 294,
     "metadata": {},
     "output_type": "execute_result"
    },
    {
     "data": {
      "image/png": "[encoded data removed]",
      "text/plain": [
       "<Figure size 640x480 with 1 Axes>"
      ]
     },
     "metadata": {},
     "output_type": "display_data"
    }
   ],
   "source": [
    "graph.plot(kind='bar')"
   ]
  },
  {
   "cell_type": "code",
   "execution_count": 295,
   "id": "2f6e33b2",
   "metadata": {},
   "outputs": [
    {
     "data": {
      "image/png": "[encoded data removed]",
      "text/plain": [
       "<Figure size 640x480 with 1 Axes>"
      ]
     },
     "metadata": {},
     "output_type": "display_data"
    }
   ],
   "source": [
    "plt.scatter(Y_test, predicted)\n",
    "plt.xlabel(\"Prices\")\n",
    "plt.ylabel(\"Predicted Prices\")\n",
    "plt.title(\"Prices vs Predicted Prices\")\n",
    "plt.show()"
   ]
  },
  {
   "cell_type": "code",
   "execution_count": 296,
   "id": "54e2e1f8",
   "metadata": {},
   "outputs": [],
   "source": [
    "#randomforestregressor"
   ]
  },
  {
   "cell_type": "code",
   "execution_count": null,
   "id": "8843fe2a",
   "metadata": {},
   "outputs": [],
   "source": [
    "\n"
   ]
  },
  {
   "cell_type": "code",
   "execution_count": 311,
   "id": "77138652",
   "metadata": {},
   "outputs": [
    {
     "data": {
      "text/html": [
       "<div>\n",
       "<style scoped>\n",
       "    .dataframe tbody tr th:only-of-type {\n",
       "        vertical-align: middle;\n",
       "    }\n",
       "\n",
       "    .dataframe tbody tr th {\n",
       "        vertical-align: top;\n",
       "    }\n",
       "\n",
       "    .dataframe thead th {\n",
       "        text-align: right;\n",
       "    }\n",
       "</style>\n",
       "<table border=\"1\" class=\"dataframe\">\n",
       "  <thead>\n",
       "    <tr style=\"text-align: right;\">\n",
       "      <th></th>\n",
       "      <th>Date</th>\n",
       "      <th>Open</th>\n",
       "      <th>High</th>\n",
       "      <th>Low</th>\n",
       "      <th>Close</th>\n",
       "      <th>Adj Close</th>\n",
       "      <th>Volume</th>\n",
       "    </tr>\n",
       "  </thead>\n",
       "  <tbody>\n",
       "    <tr>\n",
       "      <th>0</th>\n",
       "      <td>06112015</td>\n",
       "      <td>54.090000</td>\n",
       "      <td>54.980000</td>\n",
       "      <td>53.959999</td>\n",
       "      <td>54.919998</td>\n",
       "      <td>49.046444</td>\n",
       "      <td>32851200</td>\n",
       "    </tr>\n",
       "    <tr>\n",
       "      <th>1</th>\n",
       "      <td>09112015</td>\n",
       "      <td>54.549999</td>\n",
       "      <td>54.869999</td>\n",
       "      <td>53.560001</td>\n",
       "      <td>54.160000</td>\n",
       "      <td>48.367729</td>\n",
       "      <td>32513100</td>\n",
       "    </tr>\n",
       "    <tr>\n",
       "      <th>2</th>\n",
       "      <td>10112015</td>\n",
       "      <td>54.070000</td>\n",
       "      <td>54.130001</td>\n",
       "      <td>53.270000</td>\n",
       "      <td>53.509998</td>\n",
       "      <td>47.787235</td>\n",
       "      <td>55283700</td>\n",
       "    </tr>\n",
       "    <tr>\n",
       "      <th>3</th>\n",
       "      <td>11112015</td>\n",
       "      <td>53.700001</td>\n",
       "      <td>54.200001</td>\n",
       "      <td>53.459999</td>\n",
       "      <td>53.650002</td>\n",
       "      <td>47.912277</td>\n",
       "      <td>36516300</td>\n",
       "    </tr>\n",
       "    <tr>\n",
       "      <th>4</th>\n",
       "      <td>12112015</td>\n",
       "      <td>53.480000</td>\n",
       "      <td>53.980000</td>\n",
       "      <td>53.189999</td>\n",
       "      <td>53.320000</td>\n",
       "      <td>47.617561</td>\n",
       "      <td>35361100</td>\n",
       "    </tr>\n",
       "  </tbody>\n",
       "</table>\n",
       "</div>"
      ],
      "text/plain": [
       "       Date       Open       High        Low      Close  Adj Close    Volume\n",
       "0  06112015  54.090000  54.980000  53.959999  54.919998  49.046444  32851200\n",
       "1  09112015  54.549999  54.869999  53.560001  54.160000  48.367729  32513100\n",
       "2  10112015  54.070000  54.130001  53.270000  53.509998  47.787235  55283700\n",
       "3  11112015  53.700001  54.200001  53.459999  53.650002  47.912277  36516300\n",
       "4  12112015  53.480000  53.980000  53.189999  53.320000  47.617561  35361100"
      ]
     },
     "execution_count": 311,
     "metadata": {},
     "output_type": "execute_result"
    }
   ],
   "source": [
    "stock_data.head()"
   ]
  },
  {
   "cell_type": "code",
   "execution_count": 312,
   "id": "30ac3485",
   "metadata": {},
   "outputs": [],
   "source": [
    "data1= stock_data"
   ]
  },
  {
   "cell_type": "code",
   "execution_count": 313,
   "id": "6424605b",
   "metadata": {},
   "outputs": [
    {
     "data": {
      "text/plain": [
       "pandas.core.frame.DataFrame"
      ]
     },
     "execution_count": 313,
     "metadata": {},
     "output_type": "execute_result"
    }
   ],
   "source": [
    "type(data1)"
   ]
  },
  {
   "cell_type": "code",
   "execution_count": 314,
   "id": "947ac199",
   "metadata": {},
   "outputs": [
    {
     "data": {
      "text/plain": [
       "RangeIndex(start=0, stop=1762, step=1)"
      ]
     },
     "execution_count": 314,
     "metadata": {},
     "output_type": "execute_result"
    }
   ],
   "source": [
    "stock_data.index"
   ]
  },
  {
   "cell_type": "code",
   "execution_count": 315,
   "id": "ea6d29c9",
   "metadata": {},
   "outputs": [],
   "source": [
    "X = stock_data.drop('Close', axis=1)"
   ]
  },
  {
   "cell_type": "code",
   "execution_count": 316,
   "id": "6b805e2e",
   "metadata": {},
   "outputs": [],
   "source": [
    "y= stock_data['Close']"
   ]
  },
  {
   "cell_type": "code",
   "execution_count": 317,
   "id": "a010464f",
   "metadata": {},
   "outputs": [],
   "source": [
    "X = stock_data.iloc[:, 0:5].values\n",
    "y = stock_data.iloc[:, 5].values\n"
   ]
  },
  {
   "cell_type": "code",
   "execution_count": 318,
   "id": "b2b4eef4",
   "metadata": {},
   "outputs": [],
   "source": [
    "from sklearn.model_selection import train_test_split\n",
    "\n",
    "X_train, X_test, y_train, y_test = train_test_split(X, y, test_size=0.2, random_state=0)"
   ]
  },
  {
   "cell_type": "code",
   "execution_count": 319,
   "id": "b867f46c",
   "metadata": {},
   "outputs": [
    {
     "name": "stderr",
     "output_type": "stream",
     "text": [
      "C:\\Users\\MOHIT JAIN\\AppData\\Local\\Temp\\ipykernel_13484\\4240881069.py:4: SettingWithCopyWarning: \n",
      "A value is trying to be set on a copy of a slice from a DataFrame\n",
      "\n",
      "See the caveats in the documentation: https://pandas.pydata.org/pandas-docs/stable/user_guide/indexing.html#returning-a-view-versus-a-copy\n",
      "  stock_data['Date'][i] = ''.join(abc[i])\n"
     ]
    }
   ],
   "source": [
    "abc=[]\n",
    "for i in range(len(stock_data)):\n",
    "    abc.append(stock_data['Date'][i].split('-'))\n",
    "    stock_data['Date'][i] = ''.join(abc[i])"
   ]
  },
  {
   "cell_type": "code",
   "execution_count": 320,
   "id": "99cb3ccb",
   "metadata": {},
   "outputs": [
    {
     "data": {
      "text/plain": [
       "1757    31102022\n",
       "1758    01112022\n",
       "1759    02112022\n",
       "1760    03112022\n",
       "1761    04112022\n",
       "Name: Date, dtype: object"
      ]
     },
     "execution_count": 320,
     "metadata": {},
     "output_type": "execute_result"
    }
   ],
   "source": [
    "stock_data['Date'].tail()"
   ]
  },
  {
   "cell_type": "code",
   "execution_count": 321,
   "id": "610227ec",
   "metadata": {},
   "outputs": [],
   "source": [
    "X = stock_data.drop('Close', axis=1)\n"
   ]
  },
  {
   "cell_type": "code",
   "execution_count": 322,
   "id": "7d166424",
   "metadata": {},
   "outputs": [
    {
     "data": {
      "text/html": [
       "<div>\n",
       "<style scoped>\n",
       "    .dataframe tbody tr th:only-of-type {\n",
       "        vertical-align: middle;\n",
       "    }\n",
       "\n",
       "    .dataframe tbody tr th {\n",
       "        vertical-align: top;\n",
       "    }\n",
       "\n",
       "    .dataframe thead th {\n",
       "        text-align: right;\n",
       "    }\n",
       "</style>\n",
       "<table border=\"1\" class=\"dataframe\">\n",
       "  <thead>\n",
       "    <tr style=\"text-align: right;\">\n",
       "      <th></th>\n",
       "      <th>Date</th>\n",
       "      <th>Open</th>\n",
       "      <th>High</th>\n",
       "      <th>Low</th>\n",
       "      <th>Adj Close</th>\n",
       "      <th>Volume</th>\n",
       "    </tr>\n",
       "  </thead>\n",
       "  <tbody>\n",
       "    <tr>\n",
       "      <th>0</th>\n",
       "      <td>06112015</td>\n",
       "      <td>54.090000</td>\n",
       "      <td>54.980000</td>\n",
       "      <td>53.959999</td>\n",
       "      <td>49.046444</td>\n",
       "      <td>32851200</td>\n",
       "    </tr>\n",
       "    <tr>\n",
       "      <th>1</th>\n",
       "      <td>09112015</td>\n",
       "      <td>54.549999</td>\n",
       "      <td>54.869999</td>\n",
       "      <td>53.560001</td>\n",
       "      <td>48.367729</td>\n",
       "      <td>32513100</td>\n",
       "    </tr>\n",
       "    <tr>\n",
       "      <th>2</th>\n",
       "      <td>10112015</td>\n",
       "      <td>54.070000</td>\n",
       "      <td>54.130001</td>\n",
       "      <td>53.270000</td>\n",
       "      <td>47.787235</td>\n",
       "      <td>55283700</td>\n",
       "    </tr>\n",
       "    <tr>\n",
       "      <th>3</th>\n",
       "      <td>11112015</td>\n",
       "      <td>53.700001</td>\n",
       "      <td>54.200001</td>\n",
       "      <td>53.459999</td>\n",
       "      <td>47.912277</td>\n",
       "      <td>36516300</td>\n",
       "    </tr>\n",
       "    <tr>\n",
       "      <th>4</th>\n",
       "      <td>12112015</td>\n",
       "      <td>53.480000</td>\n",
       "      <td>53.980000</td>\n",
       "      <td>53.189999</td>\n",
       "      <td>47.617561</td>\n",
       "      <td>35361100</td>\n",
       "    </tr>\n",
       "  </tbody>\n",
       "</table>\n",
       "</div>"
      ],
      "text/plain": [
       "       Date       Open       High        Low  Adj Close    Volume\n",
       "0  06112015  54.090000  54.980000  53.959999  49.046444  32851200\n",
       "1  09112015  54.549999  54.869999  53.560001  48.367729  32513100\n",
       "2  10112015  54.070000  54.130001  53.270000  47.787235  55283700\n",
       "3  11112015  53.700001  54.200001  53.459999  47.912277  36516300\n",
       "4  12112015  53.480000  53.980000  53.189999  47.617561  35361100"
      ]
     },
     "execution_count": 322,
     "metadata": {},
     "output_type": "execute_result"
    }
   ],
   "source": [
    "X.head()"
   ]
  },
  {
   "cell_type": "code",
   "execution_count": 323,
   "id": "08cb59b9",
   "metadata": {},
   "outputs": [],
   "source": [
    "from sklearn.preprocessing import StandardScaler\n",
    "\n",
    "sc = StandardScaler()\n",
    "X_train = sc.fit_transform(X_train)\n",
    "X_test = sc.transform(X_test)"
   ]
  },
  {
   "cell_type": "code",
   "execution_count": 324,
   "id": "4f9b5e32",
   "metadata": {},
   "outputs": [],
   "source": [
    "from sklearn.ensemble import RandomForestRegressor\n",
    "\n",
    "regressor = RandomForestRegressor(n_estimators=20, random_state=0)\n",
    "regressor.fit(X_train, y_train)\n",
    "y_pred = regressor.predict(X_test)"
   ]
  },
  {
   "cell_type": "code",
   "execution_count": 325,
   "id": "cc1d0d0b",
   "metadata": {
    "scrolled": true
   },
   "outputs": [
    {
     "name": "stdout",
     "output_type": "stream",
     "text": [
      "R^2: 0.9999102964398385\n",
      "Mean Absolute Error: 0.5029860427762041\n",
      "Mean Squared Error: 0.6748574913414016\n",
      "Root Mean Squared Error: 0.8214971036719494\n"
     ]
    }
   ],
   "source": [
    "from sklearn import metrics\n",
    "print('R^2:', metrics.r2_score(y_test, y_pred))\n",
    "print('Mean Absolute Error:', metrics.mean_absolute_error(y_test, y_pred))\n",
    "print('Mean Squared Error:', metrics.mean_squared_error(y_test, y_pred))\n",
    "print('Root Mean Squared Error:', np.sqrt(metrics.mean_squared_error(y_test, y_pred)))"
   ]
  },
  {
   "cell_type": "code",
   "execution_count": null,
   "id": "e4ea246f",
   "metadata": {},
   "outputs": [],
   "source": []
  },
  {
   "cell_type": "code",
   "execution_count": 326,
   "id": "8b03b707",
   "metadata": {
    "scrolled": false
   },
   "outputs": [
    {
     "data": {
      "image/png": "[encoded data removed]",
      "text/plain": [
       "<Figure size 640x480 with 1 Axes>"
      ]
     },
     "metadata": {},
     "output_type": "display_data"
    }
   ],
   "source": [
    "plt.scatter(y_test, y_pred)\n",
    "plt.xlabel(\"Prices\")\n",
    "plt.ylabel(\"Predicted Prices\")\n",
    "plt.title(\"Prices vs Predicted Prices\")\n",
    "plt.show()\n"
   ]
  },
  {
   "cell_type": "code",
   "execution_count": null,
   "id": "3f176ab2",
   "metadata": {},
   "outputs": [],
   "source": []
  },
  {
   "cell_type": "code",
   "execution_count": null,
   "id": "4b1b8aa3",
   "metadata": {},
   "outputs": [],
   "source": []
  },
  {
   "cell_type": "code",
   "execution_count": null,
   "id": "cb6653a9",
   "metadata": {},
   "outputs": [],
   "source": []
  }
 ],
 "metadata": {
  "kernelspec": {
   "display_name": "Python 3 (ipykernel)",
   "language": "python",
   "name": "python3"
  },
  "language_info": {
   "codemirror_mode": {
    "name": "ipython",
    "version": 3
   },
   "file_extension": ".py",
   "mimetype": "text/x-python",
   "name": "python",
   "nbconvert_exporter": "python",
   "pygments_lexer": "ipython3",
   "version": "3.9.13"
  }
 },
 "nbformat": 4,
 "nbformat_minor": 5
}
